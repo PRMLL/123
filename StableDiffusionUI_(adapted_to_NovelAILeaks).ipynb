{
  "nbformat": 4,
  "nbformat_minor": 0,
  "metadata": {
    "colab": {
      "provenance": [],
      "collapsed_sections": [],
      "include_colab_link": true
    },
    "kernelspec": {
      "name": "python3",
      "display_name": "Python 3"
    },
    "language_info": {
      "name": "python"
    },
    "accelerator": "GPU",
    "gpuClass": "standard"
  },
  "cells": [
    {
      "cell_type": "markdown",
      "metadata": {
        "id": "view-in-github",
        "colab_type": "text"
      },
      "source": [
        "<a href=\"https://colab.research.google.com/github/PRMLL/123/blob/master/StableDiffusionUI_(adapted_to_NovelAILeaks).ipynb\" target=\"_parent\"><img src=\"https://colab.research.google.com/assets/colab-badge.svg\" alt=\"Open In Colab\"/></a>"
      ]
    },
    {
      "cell_type": "markdown",
      "source": [
        "Clone webui repository"
      ],
      "metadata": {
        "id": "OHCtG9MT0jLq"
      }
    },
    {
      "cell_type": "code",
      "source": [
        "!git clone https://github.com/AUTOMATIC1111/stable-diffusion-webui\n",
        "%cd stable-diffusion-webui"
      ],
      "metadata": {
        "id": "sBbcB4vwj_jm",
        "colab": {
          "base_uri": "https://localhost:8080/"
        },
        "outputId": "9fde3b52-9112-4626-8090-33edc59fc53e"
      },
      "execution_count": 1,
      "outputs": [
        {
          "output_type": "stream",
          "name": "stdout",
          "text": [
            "Cloning into 'stable-diffusion-webui'...\n",
            "remote: Enumerating objects: 6982, done.\u001b[K\n",
            "remote: Counting objects: 100% (156/156), done.\u001b[K\n",
            "remote: Compressing objects: 100% (110/110), done.\u001b[K\n",
            "remote: Total 6982 (delta 86), reused 96 (delta 46), pack-reused 6826\u001b[K\n",
            "Receiving objects: 100% (6982/6982), 21.88 MiB | 42.20 MiB/s, done.\n",
            "Resolving deltas: 100% (4906/4906), done.\n",
            "/content/stable-diffusion-webui\n"
          ]
        }
      ]
    },
    {
      "cell_type": "markdown",
      "source": [
        "Download the model from NovelAILeaks."
      ],
      "metadata": {
        "id": "F0EINk5M0s-w"
      }
    },
    {
      "cell_type": "code",
      "source": [
        "!mkdir -p /content/stable-diffusion-webui/models/Stable-diffusion /content/stable-diffusion-webui/models/hypernetworks\n",
        "%cd /content/stable-diffusion-webui/models/Stable-diffusion/\n",
        "\n",
        "# 7G animefull-final-latest (may not work)\n",
        "# !gdown 17WWd6KEsBj7D_0TyGp8aXHQDlchYVs1a -O /content/stable-diffusion-webui/models/Stable-diffusion/model.ckpt\n",
        "\n",
        "# 4G animefull-final-pruned\n",
        "# !gdown 1d3f2fvN2gLRocBahZrXe_v1EEHuqpUzT -O /content/stable-diffusion-webui/models/Stable-diffusion/model.ckpt\n",
        "\n",
        "# 4G animefull-final-pruned (backup)\n",
        "!curl -Lo model.ckpt https://cloudflare-ipfs.com/ipfs/bafybeicpamreyp2bsocyk3hpxr7ixb2g2rnrequub3j2ahrkdxbvfbvjc4/model.ckpt\n",
        "\n",
        "# Install VAE Weights (optional)\n",
        "!curl -Lo model.vae.pt https://cloudflare-ipfs.com/ipfs/bafybeiccldswdd3wvg57jhclcq53lvsc6gizasiblwayvhlv6eq4wow7wu/animevae.pt \n",
        "\n",
        "# Install hypernetwork （optional)\n",
        "!curl -L https://cloudflare-ipfs.com/ipfs/bafybeiduanx2b3mcvxlwr66igcwnpfmk3nc3qgxlpwh6oq6m6pxii3f77e/_modules.tar | tar x -C /content/stable-diffusion-webui/models/hypernetworks\n",
        "\n",
        "# Install custom embeddings (modified, optional)\n",
        "# !curl -L https://cloudflare-ipfs.com/ipfs/bafybeie3hdjchxs5tz4n75bos53nhcklslguxchdurc2ynrzcfv2kwyklu/embeddings.tar | tar x -C /content/stable-diffusion-webui/embeddings"
      ],
      "metadata": {
        "colab": {
          "base_uri": "https://localhost:8080/"
        },
        "id": "ZzRNMT42Gw_p",
        "outputId": "5e020abd-e2e7-4738-cd52-3fa42e6f8b88"
      },
      "execution_count": 2,
      "outputs": [
        {
          "output_type": "stream",
          "name": "stdout",
          "text": [
            "/content/stable-diffusion-webui/models/Stable-diffusion\n",
            "  % Total    % Received % Xferd  Average Speed   Time    Time     Time  Current\n",
            "                                 Dload  Upload   Total   Spent    Left  Speed\n",
            "100 4067M  100 4067M    0     0  84.0M      0  0:00:48  0:00:48 --:--:--  112M\n",
            "  % Total    % Received % Xferd  Average Speed   Time    Time     Time  Current\n",
            "                                 Dload  Upload   Total   Spent    Left  Speed\n",
            "100  784M  100  784M    0     0   107M      0  0:00:07  0:00:07 --:--:--  112M\n",
            "  % Total    % Received % Xferd  Average Speed   Time    Time     Time  Current\n",
            "                                 Dload  Upload   Total   Spent    Left  Speed\n",
            "100 1004M  100 1004M    0     0  83.1M      0  0:00:12  0:00:12 --:--:-- 96.0M\n"
          ]
        }
      ]
    },
    {
      "cell_type": "markdown",
      "source": [
        "Launch web ui. You will get a link to nnn.gradio.app, follow it.\n",
        "\n",
        "Commandline arguments are:\n",
        "  - `--share` - create online gradio.app link\n",
        "  - `--gradio-debug` - print outputs to console\n",
        "  - `--gradio-auth me:qwerty` - add authentication to gradio: username me, password qwerty"
      ],
      "metadata": {
        "id": "xt8lbdmC04ox"
      }
    },
    {
      "cell_type": "code",
      "source": [
        "g.ndata['norm'] = norm.unsqueeze(1)\n",
        "g = g.to(device)"
      ],
      "metadata": {
        "colab": {
          "base_uri": "https://localhost:8080/",
          "height": 194
        },
        "id": "BhjsfiSSRebG",
        "outputId": "72209b2a-0789-41c5-c85e-567ddff35101"
      },
      "execution_count": 6,
      "outputs": [
        {
          "output_type": "error",
          "ename": "NameError",
          "evalue": "ignored",
          "traceback": [
            "\u001b[0;31m---------------------------------------------------------------------------\u001b[0m",
            "\u001b[0;31mNameError\u001b[0m                                 Traceback (most recent call last)",
            "\u001b[0;32m<ipython-input-6-a67a2b7a08a7>\u001b[0m in \u001b[0;36m<module>\u001b[0;34m\u001b[0m\n\u001b[0;32m----> 1\u001b[0;31m \u001b[0mg\u001b[0m\u001b[0;34m.\u001b[0m\u001b[0mndata\u001b[0m\u001b[0;34m[\u001b[0m\u001b[0;34m'norm'\u001b[0m\u001b[0;34m]\u001b[0m \u001b[0;34m=\u001b[0m \u001b[0mnorm\u001b[0m\u001b[0;34m.\u001b[0m\u001b[0munsqueeze\u001b[0m\u001b[0;34m(\u001b[0m\u001b[0;36m1\u001b[0m\u001b[0;34m)\u001b[0m\u001b[0;34m\u001b[0m\u001b[0;34m\u001b[0m\u001b[0m\n\u001b[0m\u001b[1;32m      2\u001b[0m \u001b[0mg\u001b[0m \u001b[0;34m=\u001b[0m \u001b[0mg\u001b[0m\u001b[0;34m.\u001b[0m\u001b[0mto\u001b[0m\u001b[0;34m(\u001b[0m\u001b[0mdevice\u001b[0m\u001b[0;34m)\u001b[0m\u001b[0;34m\u001b[0m\u001b[0;34m\u001b[0m\u001b[0m\n",
            "\u001b[0;31mNameError\u001b[0m: name 'norm' is not defined"
          ]
        }
      ]
    },
    {
      "cell_type": "code",
      "source": [
        "%cd /content/stable-diffusion-webui\n",
        "!COMMANDLINE_ARGS=\"--share --gradio-debug --medvram\" REQS_FILE=\"requirements.txt\" python launch.py"
      ],
      "metadata": {
        "id": "R-xAdMA5wxXd",
        "colab": {
          "base_uri": "https://localhost:8080/"
        },
        "outputId": "d13e75cf-db71-482a-bc24-9211d8219253"
      },
      "execution_count": null,
      "outputs": [
        {
          "output_type": "stream",
          "name": "stdout",
          "text": [
            "/content/stable-diffusion-webui\n",
            "Python 3.7.15 (default, Oct 12 2022, 19:14:55) \n",
            "[GCC 7.5.0]\n",
            "Commit hash: f894dd552f68bea27476f1f360ab8e79f3a65b4f\n",
            "Installing requirements for Web UI\n",
            "Launching Web UI with arguments: --share --gradio-debug --medvram\n",
            "LatentDiffusion: Running in eps-prediction mode\n",
            "DiffusionWrapper has 859.52 M params.\n",
            "making attention of type 'vanilla' with 512 in_channels\n",
            "Working with z of shape (1, 4, 32, 32) = 4096 dimensions.\n",
            "making attention of type 'vanilla' with 512 in_channels\n",
            "Loading weights [925997e9] from /content/stable-diffusion-webui/models/Stable-diffusion/model.ckpt\n",
            "Applying cross attention optimization (Doggettx).\n",
            "Model loaded.\n",
            "Loaded a total of 0 textual inversion embeddings.\n",
            "Embeddings: \n",
            "Running on local URL:  http://127.0.0.1:7860\n",
            "Running on public URL: https://89586b1fa3a7a229.gradio.app\n",
            "\n",
            "This share link expires in 72 hours. For free permanent hosting and GPU upgrades (NEW!), check out Spaces: https://huggingface.co/spaces\n",
            "Traceback (most recent call last):\n",
            "  File \"/usr/local/lib/python3.7/dist-packages/gradio/routes.py\", line 276, in run_predict\n",
            "    fn_index, raw_input, username, session_state, iterators\n",
            "  File \"/usr/local/lib/python3.7/dist-packages/gradio/blocks.py\", line 787, in process_api\n",
            "    result = await self.call_function(fn_index, inputs, iterator)\n",
            "  File \"/usr/local/lib/python3.7/dist-packages/gradio/blocks.py\", line 695, in call_function\n",
            "    block_fn.fn, *processed_input, limiter=self.limiter\n",
            "  File \"/usr/local/lib/python3.7/dist-packages/anyio/to_thread.py\", line 32, in run_sync\n",
            "    func, *args, cancellable=cancellable, limiter=limiter\n",
            "  File \"/usr/local/lib/python3.7/dist-packages/anyio/_backends/_asyncio.py\", line 937, in run_sync_in_worker_thread\n",
            "    return await future\n",
            "  File \"/usr/local/lib/python3.7/dist-packages/anyio/_backends/_asyncio.py\", line 867, in run\n",
            "    result = context.run(func, *args)\n",
            "  File \"/content/stable-diffusion-webui/modules/textual_inversion/ui.py\", line 11, in create_embedding\n",
            "    filename = modules.textual_inversion.textual_inversion.create_embedding(name, nvpt, init_text=initialization_text)\n",
            "  File \"/content/stable-diffusion-webui/modules/textual_inversion/textual_inversion.py\", line 161, in create_embedding\n",
            "    embedded = embedding_layer.token_embedding.wrapped(ids.to(devices.device)).squeeze(0)\n",
            "  File \"/usr/local/lib/python3.7/dist-packages/torch/nn/modules/module.py\", line 1130, in _call_impl\n",
            "    return forward_call(*input, **kwargs)\n",
            "  File \"/usr/local/lib/python3.7/dist-packages/torch/nn/modules/sparse.py\", line 160, in forward\n",
            "    self.norm_type, self.scale_grad_by_freq, self.sparse)\n",
            "  File \"/usr/local/lib/python3.7/dist-packages/torch/nn/functional.py\", line 2199, in embedding\n",
            "    return torch.embedding(weight, input, padding_idx, scale_grad_by_freq, sparse)\n",
            "RuntimeError: Expected all tensors to be on the same device, but found at least two devices, cpu and cuda:0! (when checking argument for argument index in method wrapper__index_select)\n",
            "Loaded a total of 1 textual inversion embeddings.\n",
            "Embeddings: rong_bao\n",
            "Preparing dataset...\n",
            "100% 36/36 [00:11<00:00,  3.27it/s]\n",
            "Training at rate of 0.005 until step 100000\n",
            "[Epoch 2: 2/36]loss: 0.0932604:   0% 74/100000 [03:34<80:29:42,  2.90s/it]\n",
            "Applying cross attention optimization (Doggettx).\n",
            "Preparing dataset...\n",
            "100% 36/36 [00:06<00:00,  5.97it/s]\n",
            "Training at rate of 0.005 until step 1000\n",
            "[Epoch 13: 33/36]loss: 0.1296069:  46% 426/926 [20:31<23:55,  2.87s/it]\n",
            "  0% 0/20 [00:00<?, ?it/s]\u001b[A\n",
            "Total progress:   0% 0/20000 [00:00<?, ?it/s]\u001b[A\n",
            "  5% 1/20 [00:01<00:26,  1.41s/it]\u001b[A\n",
            "Total progress:   0% 2/20000 [00:00<52:24,  6.36it/s]\u001b[A\n",
            " 10% 2/20 [00:01<00:13,  1.31it/s]\u001b[A\n",
            "Total progress:   0% 3/20000 [00:00<1:16:35,  4.35it/s]\u001b[A\n",
            " 15% 3/20 [00:02<00:09,  1.77it/s]\u001b[A\n",
            "Total progress:   0% 4/20000 [00:00<1:27:41,  3.80it/s]\u001b[A\n",
            " 20% 4/20 [00:02<00:07,  2.13it/s]\u001b[A\n",
            "Total progress:   0% 5/20000 [00:01<1:33:58,  3.55it/s]\u001b[A\n",
            " 25% 5/20 [00:02<00:06,  2.41it/s]\u001b[A\n",
            "Total progress:   0% 6/20000 [00:01<1:38:17,  3.39it/s]\u001b[A\n",
            " 30% 6/20 [00:03<00:05,  2.61it/s]\u001b[A\n",
            "Total progress:   0% 7/20000 [00:01<1:41:24,  3.29it/s]\u001b[A\n",
            " 35% 7/20 [00:03<00:04,  2.75it/s]\u001b[A\n",
            "Total progress:   0% 8/20000 [00:02<1:42:29,  3.25it/s]\u001b[A\n",
            " 40% 8/20 [00:03<00:04,  2.87it/s]\u001b[A\n",
            "Total progress:   0% 9/20000 [00:02<1:43:55,  3.21it/s]\u001b[A\n",
            " 45% 9/20 [00:03<00:03,  2.94it/s]\u001b[A\n",
            "Total progress:   0% 10/20000 [00:02<1:45:33,  3.16it/s]\u001b[A\n",
            " 50% 10/20 [00:04<00:03,  2.98it/s]\u001b[A\n",
            "Total progress:   0% 11/20000 [00:03<1:45:41,  3.15it/s]\u001b[A\n",
            " 55% 11/20 [00:04<00:02,  3.03it/s]\u001b[A\n",
            "Total progress:   0% 12/20000 [00:03<1:45:59,  3.14it/s]\u001b[A\n",
            " 60% 12/20 [00:04<00:02,  3.05it/s]\u001b[A\n",
            "Total progress:   0% 13/20000 [00:03<1:47:06,  3.11it/s]\u001b[A\n",
            " 65% 13/20 [00:05<00:02,  3.05it/s]\u001b[A\n",
            "Total progress:   0% 14/20000 [00:04<1:47:04,  3.11it/s]\u001b[A\n",
            " 70% 14/20 [00:05<00:01,  3.07it/s]\u001b[A\n",
            "Total progress:   0% 15/20000 [00:04<1:47:20,  3.10it/s]\u001b[A\n",
            " 75% 15/20 [00:05<00:01,  3.07it/s]\u001b[A\n",
            "Total progress:   0% 16/20000 [00:04<1:47:57,  3.09it/s]\u001b[A\n",
            " 80% 16/20 [00:06<00:01,  3.06it/s]\u001b[A\n",
            "Total progress:   0% 17/20000 [00:05<1:47:50,  3.09it/s]\u001b[A\n",
            " 85% 17/20 [00:06<00:00,  3.07it/s]\u001b[A\n",
            "Total progress:   0% 18/20000 [00:05<1:47:23,  3.10it/s]\u001b[A\n",
            " 90% 18/20 [00:06<00:00,  3.09it/s]\u001b[A\n",
            "Total progress:   0% 19/20000 [00:05<1:47:50,  3.09it/s]\u001b[A\n",
            " 95% 19/20 [00:07<00:00,  3.08it/s]\u001b[A\n",
            "Total progress:   0% 20/20000 [00:06<1:47:50,  3.09it/s]\u001b[A\n",
            "100% 20/20 [00:07<00:00,  2.65it/s]\n",
            "[Epoch 27: 29/36]loss: 0.1748292: 100% 926/926 [44:38<00:00,  2.86s/it]\n",
            "\n",
            "  0% 0/20 [00:00<?, ?it/s]\u001b[A\u001b[A\n",
            "Total progress:   0% 21/20000 [24:07<2401:20:08, 432.69s/it]\u001b[A\n",
            "\n",
            "  5% 1/20 [00:01<00:26,  1.38s/it]\u001b[A\u001b[A\n",
            "Total progress:   0% 22/20000 [24:07<1681:08:39, 302.94s/it]\u001b[A\n",
            "\n",
            " 10% 2/20 [00:01<00:13,  1.33it/s]\u001b[A\u001b[A\n",
            "Total progress:   0% 23/20000 [24:07<1177:10:56, 212.14s/it]\u001b[A\n",
            "\n",
            " 15% 3/20 [00:02<00:09,  1.78it/s]\u001b[A\u001b[A\n",
            "Total progress:   0% 24/20000 [24:07<824:27:26, 148.58s/it] \u001b[A\n",
            "\n",
            " 20% 4/20 [00:02<00:07,  2.15it/s]\u001b[A\u001b[A\n",
            "Total progress:   0% 25/20000 [24:08<577:35:26, 104.10s/it]\u001b[A\n",
            "\n",
            " 25% 5/20 [00:02<00:06,  2.43it/s]\u001b[A\u001b[A\n",
            "Total progress:   0% 26/20000 [24:08<404:49:27, 72.96s/it] \u001b[A\n",
            "\n",
            " 30% 6/20 [00:02<00:05,  2.61it/s]\u001b[A\u001b[A\n",
            "Total progress:   0% 27/20000 [24:08<283:53:49, 51.17s/it]\u001b[A\n",
            "\n",
            " 35% 7/20 [00:03<00:04,  2.75it/s]\u001b[A\u001b[A\n",
            "Total progress:   0% 28/20000 [24:09<199:14:28, 35.91s/it]\u001b[A\n",
            "\n",
            " 40% 8/20 [00:03<00:04,  2.87it/s]\u001b[A\u001b[A\n",
            "Total progress:   0% 29/20000 [24:09<139:59:28, 25.24s/it]\u001b[A\n",
            "\n",
            " 45% 9/20 [00:03<00:03,  2.95it/s]\u001b[A\u001b[A\n",
            "Total progress:   0% 30/20000 [24:09<98:31:29, 17.76s/it] \u001b[A\n",
            "\n",
            " 50% 10/20 [00:04<00:03,  2.99it/s]\u001b[A\u001b[A\n",
            "Total progress:   0% 31/20000 [24:10<69:29:35, 12.53s/it]\u001b[A\n",
            "\n",
            " 55% 11/20 [00:04<00:02,  3.04it/s]\u001b[A\u001b[A\n",
            "Total progress:   0% 32/20000 [24:10<49:10:45,  8.87s/it]\u001b[A\n",
            "\n",
            " 60% 12/20 [00:04<00:02,  3.06it/s]\u001b[A\u001b[A\n",
            "Total progress:   0% 33/20000 [24:10<34:58:04,  6.30s/it]\u001b[A\n",
            "\n",
            " 65% 13/20 [00:05<00:02,  3.06it/s]\u001b[A\u001b[A\n",
            "Total progress:   0% 34/20000 [24:11<25:00:30,  4.51s/it]\u001b[A\n",
            "\n",
            " 70% 14/20 [00:05<00:01,  3.08it/s]\u001b[A\u001b[A\n",
            "Total progress:   0% 35/20000 [24:11<18:02:12,  3.25s/it]\u001b[A\n",
            "\n",
            " 75% 15/20 [00:05<00:01,  3.09it/s]\u001b[A\u001b[A\n",
            "Total progress:   0% 36/20000 [24:11<13:09:44,  2.37s/it]\u001b[A\n",
            "\n",
            " 80% 16/20 [00:06<00:01,  3.09it/s]\u001b[A\u001b[A\n",
            "Total progress:   0% 37/20000 [24:12<9:44:16,  1.76s/it] \u001b[A\n",
            "\n",
            " 85% 17/20 [00:06<00:00,  3.12it/s]\u001b[A\u001b[A\n",
            "Total progress:   0% 38/20000 [24:12<7:21:04,  1.33s/it]\u001b[A\n",
            "\n",
            " 90% 18/20 [00:06<00:00,  3.11it/s]\u001b[A\u001b[A\n",
            "Total progress:   0% 39/20000 [24:12<5:41:18,  1.03s/it]\u001b[A\n",
            "\n",
            " 95% 19/20 [00:07<00:00,  3.10it/s]\u001b[A\u001b[A\n",
            "Total progress:   0% 40/20000 [24:13<4:30:53,  1.23it/s]\u001b[A\n",
            "\n",
            "100% 20/20 [00:07<00:00,  2.67it/s]\n",
            "[Epoch 27: 29/36]loss: 0.1748292: : 927it [44:49,  2.90s/it]\n",
            "Applying cross attention optimization (Doggettx).\n"
          ]
        }
      ]
    },
    {
      "cell_type": "code",
      "source": [
        "from google.colab import drive\n",
        "drive.mount('/content/drive')\n",
        "from google.colab import files\n",
        "with open('example.txt', 'w') as f:\n",
        "      f.write('some content')\n",
        "files.download('example.txt')\n"
      ],
      "metadata": {
        "id": "-Pgtvwslj1Pf"
      },
      "execution_count": null,
      "outputs": []
    },
    {
      "cell_type": "markdown",
      "source": [
        "commands for ***after*** you have gotten done with a session\n",
        "============================================================================"
      ],
      "metadata": {
        "id": "T3957x2AY7iP"
      }
    },
    {
      "cell_type": "markdown",
      "source": [
        "Zip images for downloading on local drive (click the folder icon on the left, the one below {x})"
      ],
      "metadata": {
        "id": "aCtJffM2ZE06"
      }
    },
    {
      "cell_type": "code",
      "source": [
        "!zip -r /content/stable-diffusion-webui /content/stable-diffusion-webui/outputs "
      ],
      "metadata": {
        "id": "TmRqNyiAZCHu",
        "colab": {
          "base_uri": "https://localhost:8080/"
        },
        "outputId": "86401e70-d0c8-4f95-8080-fae7d9b1cfe7"
      },
      "execution_count": 4,
      "outputs": [
        {
          "output_type": "stream",
          "name": "stdout",
          "text": [
            "\tzip warning: name not matched: /content/stable-diffusion-webui/outputs\n",
            "\n",
            "zip error: Nothing to do! (try: zip -r /content/stable-diffusion-webui . -i /content/stable-diffusion-webui/outputs)\n"
          ]
        }
      ]
    },
    {
      "cell_type": "markdown",
      "source": [
        "Save images to Google Drive **Warning: this will cause google to scan your drive, so if you intend to use this and worry about that kind of stuff, probablly just set this up on a clean account that's just for this colab**"
      ],
      "metadata": {
        "id": "tcslU-S2ZNr9"
      }
    },
    {
      "cell_type": "code",
      "source": [
        "from google.colab import drive # type: ignore\n",
        "\n",
        "try:\n",
        "   drive_path = \"/content/drive\"\n",
        "   drive.mount(drive_path,force_remount=False)\n",
        "except:\n",
        "   print(\"...error mounting drive or with drive path variables\")\n",
        "\n",
        "!cp -r \"/content/stable-diffusion-webui/outputs\" \"/content/drive/MyDrive\"             "
      ],
      "metadata": {
        "id": "-N0lnu-TZOTW",
        "colab": {
          "base_uri": "https://localhost:8080/"
        },
        "outputId": "7fcb6adb-e9a1-48d7-f88a-551a9888d616"
      },
      "execution_count": 5,
      "outputs": [
        {
          "output_type": "stream",
          "name": "stdout",
          "text": [
            "...error mounting drive or with drive path variables\n",
            "cp: cannot stat '/content/stable-diffusion-webui/outputs': No such file or directory\n"
          ]
        }
      ]
    }
  ]
}